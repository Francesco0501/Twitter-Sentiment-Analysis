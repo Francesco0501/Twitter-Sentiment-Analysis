{
  "nbformat": 4,
  "nbformat_minor": 0,
  "metadata": {
    "colab": {
      "name": "Untitled0.ipynb",
      "provenance": [],
      "collapsed_sections": []
    },
    "kernelspec": {
      "name": "python3",
      "display_name": "Python 3"
    },
    "language_info": {
      "name": "python"
    }
  },
  "cells": [
    {
      "cell_type": "markdown",
      "source": [
        "# **Twitter Sentiment Analysis with Logistic Regression**\n",
        "\n",
        "To obtein the twitter dataset we use an open-source python library called\n",
        "Natural Language Toolkit (NLTK).\n",
        "\n",
        "NLTK allows to get the list of positive tweets and the list of negative tweets.\n",
        "\n",
        "Every tweet is a string which will be classified by the sentiment classifier based on logistic regression."
      ],
      "metadata": {
        "id": "zTwbFupAq_d-"
      }
    },
    {
      "cell_type": "code",
      "execution_count": 113,
      "metadata": {
        "id": "dfQDeN4NoaGW"
      },
      "outputs": [],
      "source": [
        "import nltk                              \n",
        "from nltk.corpus import twitter_samples  \n",
        "import random                       \n",
        "\n",
        "nltk.download('twitter_samples') # dataset\n",
        "\n",
        "positive_tweets = twitter_samples.strings('positive_tweets.json')\n",
        "negative_tweets = twitter_samples.strings('negative_tweets.json')\n"
      ]
    },
    {
      "cell_type": "markdown",
      "source": [
        "Distribution of tweets"
      ],
      "metadata": {
        "id": "HdWseri_f7Ul"
      }
    },
    {
      "cell_type": "code",
      "source": [
        "import matplotlib.pyplot as plt         \n",
        "\n",
        "fig = plt.figure(figsize=(5, 5))\n",
        "labels = 'Positives', 'Negative'\n",
        "sizes = [len(positive_tweets), len(negative_tweets)]\n",
        "plt.pie(sizes, labels=labels, autopct='%1.1f%%',shadow=True, startangle=90)\n",
        "plt.axis('equal')\n",
        "plt.show()"
      ],
      "metadata": {
        "colab": {
          "base_uri": "https://localhost:8080/",
          "height": 303
        },
        "id": "VuFcXkvu18pk",
        "outputId": "7280221a-c2e4-4cbb-b0f3-d786e02d6ebd"
      },
      "execution_count": 103,
      "outputs": [
        {
          "output_type": "display_data",
          "data": {
            "image/png": "[encoded data removed]",
            "text/plain": [
              "<Figure size 360x360 with 1 Axes>"
            ]
          },
          "metadata": {}
        }
      ]
    },
    {
      "cell_type": "markdown",
      "source": [
        "DataFrame of tweets"
      ],
      "metadata": {
        "id": "26emFLO70F8c"
      }
    },
    {
      "cell_type": "code",
      "source": [
        "import pandas as pd\n",
        "\n",
        "d = {\"tweet\":positive_tweets+negative_tweets,\"sentiment\":[\"POS\"]*5000+[\"NEG\"]*5000}\n",
        "df = pd.DataFrame(data=d)\n",
        "df = df.sample(frac=1).reset_index(drop=True)\n",
        "df"
      ],
      "metadata": {
        "colab": {
          "base_uri": "https://localhost:8080/",
          "height": 423
        },
        "id": "J2b0VgnAhOzN",
        "outputId": "2e4d1a4a-b8bd-4de6-ce6c-69b1cba07fa4"
      },
      "execution_count": 104,
      "outputs": [
        {
          "output_type": "execute_result",
          "data": {
            "text/html": [
              "\n",
              "  <div id=\"df-d0175b2e-bcd0-41e2-b213-5942e25ff6cc\">\n",
              "    <div class=\"colab-df-container\">\n",
              "      <div>\n",
              "<style scoped>\n",
              "    .dataframe tbody tr th:only-of-type {\n",
              "        vertical-align: middle;\n",
              "    }\n",
              "\n",
              "    .dataframe tbody tr th {\n",
              "        vertical-align: top;\n",
              "    }\n",
              "\n",
              "    .dataframe thead th {\n",
              "        text-align: right;\n",
              "    }\n",
              "</style>\n",
              "<table border=\"1\" class=\"dataframe\">\n",
              "  <thead>\n",
              "    <tr style=\"text-align: right;\">\n",
              "      <th></th>\n",
              "      <th>tweet</th>\n",
              "      <th>sentiment</th>\n",
              "    </tr>\n",
              "  </thead>\n",
              "  <tbody>\n",
              "    <tr>\n",
              "      <th>0</th>\n",
              "      <td>Thank you :) \"@khuzy_k: @Miss_Sejeng Happy bir...</td>\n",
              "      <td>POS</td>\n",
              "    </tr>\n",
              "    <tr>\n",
              "      <th>1</th>\n",
              "      <td>#docopenhagen i have a horse in my ass :( http...</td>\n",
              "      <td>NEG</td>\n",
              "    </tr>\n",
              "    <tr>\n",
              "      <th>2</th>\n",
              "      <td>@ellierowexo in this weather, are you mad? &amp;am...</td>\n",
              "      <td>NEG</td>\n",
              "    </tr>\n",
              "    <tr>\n",
              "      <th>3</th>\n",
              "      <td>that means i will be on the low limit table fo...</td>\n",
              "      <td>NEG</td>\n",
              "    </tr>\n",
              "    <tr>\n",
              "      <th>4</th>\n",
              "      <td>@Awaishooo Shahid Afridi tou young hi hai na a...</td>\n",
              "      <td>POS</td>\n",
              "    </tr>\n",
              "    <tr>\n",
              "      <th>...</th>\n",
              "      <td>...</td>\n",
              "      <td>...</td>\n",
              "    </tr>\n",
              "    <tr>\n",
              "      <th>9995</th>\n",
              "      <td>i messed up big time :(</td>\n",
              "      <td>NEG</td>\n",
              "    </tr>\n",
              "    <tr>\n",
              "      <th>9996</th>\n",
              "      <td>Who even started this trend? I wanna know if t...</td>\n",
              "      <td>NEG</td>\n",
              "    </tr>\n",
              "    <tr>\n",
              "      <th>9997</th>\n",
              "      <td>so i have to survive another week without my p...</td>\n",
              "      <td>NEG</td>\n",
              "    </tr>\n",
              "    <tr>\n",
              "      <th>9998</th>\n",
              "      <td>FeyTyaz Follback ya :)</td>\n",
              "      <td>POS</td>\n",
              "    </tr>\n",
              "    <tr>\n",
              "      <th>9999</th>\n",
              "      <td>@1DMspree @njhla omfg harry pls bae :( don't i...</td>\n",
              "      <td>NEG</td>\n",
              "    </tr>\n",
              "  </tbody>\n",
              "</table>\n",
              "<p>10000 rows × 2 columns</p>\n",
              "</div>\n",
              "      <button class=\"colab-df-convert\" onclick=\"convertToInteractive('df-d0175b2e-bcd0-41e2-b213-5942e25ff6cc')\"\n",
              "              title=\"Convert this dataframe to an interactive table.\"\n",
              "              style=\"display:none;\">\n",
              "        \n",
              "  <svg xmlns=\"http://www.w3.org/2000/svg\" height=\"24px\"viewBox=\"0 0 24 24\"\n",
              "       width=\"24px\">\n",
              "    <path d=\"M0 0h24v24H0V0z\" fill=\"none\"/>\n",
              "    <path d=\"M18.56 5.44l.94 2.06.94-2.06 2.06-.94-2.06-.94-.94-2.06-.94 2.06-2.06.94zm-11 1L8.5 8.5l.94-2.06 2.06-.94-2.06-.94L8.5 2.5l-.94 2.06-2.06.94zm10 10l.94 2.06.94-2.06 2.06-.94-2.06-.94-.94-2.06-.94 2.06-2.06.94z\"/><path d=\"M17.41 7.96l-1.37-1.37c-.4-.4-.92-.59-1.43-.59-.52 0-1.04.2-1.43.59L10.3 9.45l-7.72 7.72c-.78.78-.78 2.05 0 2.83L4 21.41c.39.39.9.59 1.41.59.51 0 1.02-.2 1.41-.59l7.78-7.78 2.81-2.81c.8-.78.8-2.07 0-2.86zM5.41 20L4 18.59l7.72-7.72 1.47 1.35L5.41 20z\"/>\n",
              "  </svg>\n",
              "      </button>\n",
              "      \n",
              "  <style>\n",
              "    .colab-df-container {\n",
              "      display:flex;\n",
              "      flex-wrap:wrap;\n",
              "      gap: 12px;\n",
              "    }\n",
              "\n",
              "    .colab-df-convert {\n",
              "      background-color: #E8F0FE;\n",
              "      border: none;\n",
              "      border-radius: 50%;\n",
              "      cursor: pointer;\n",
              "      display: none;\n",
              "      fill: #1967D2;\n",
              "      height: 32px;\n",
              "      padding: 0 0 0 0;\n",
              "      width: 32px;\n",
              "    }\n",
              "\n",
              "    .colab-df-convert:hover {\n",
              "      background-color: #E2EBFA;\n",
              "      box-shadow: 0px 1px 2px rgba(60, 64, 67, 0.3), 0px 1px 3px 1px rgba(60, 64, 67, 0.15);\n",
              "      fill: #174EA6;\n",
              "    }\n",
              "\n",
              "    [theme=dark] .colab-df-convert {\n",
              "      background-color: #3B4455;\n",
              "      fill: #D2E3FC;\n",
              "    }\n",
              "\n",
              "    [theme=dark] .colab-df-convert:hover {\n",
              "      background-color: #434B5C;\n",
              "      box-shadow: 0px 1px 3px 1px rgba(0, 0, 0, 0.15);\n",
              "      filter: drop-shadow(0px 1px 2px rgba(0, 0, 0, 0.3));\n",
              "      fill: #FFFFFF;\n",
              "    }\n",
              "  </style>\n",
              "\n",
              "      <script>\n",
              "        const buttonEl =\n",
              "          document.querySelector('#df-d0175b2e-bcd0-41e2-b213-5942e25ff6cc button.colab-df-convert');\n",
              "        buttonEl.style.display =\n",
              "          google.colab.kernel.accessAllowed ? 'block' : 'none';\n",
              "\n",
              "        async function convertToInteractive(key) {\n",
              "          const element = document.querySelector('#df-d0175b2e-bcd0-41e2-b213-5942e25ff6cc');\n",
              "          const dataTable =\n",
              "            await google.colab.kernel.invokeFunction('convertToInteractive',\n",
              "                                                     [key], {});\n",
              "          if (!dataTable) return;\n",
              "\n",
              "          const docLinkHtml = 'Like what you see? Visit the ' +\n",
              "            '<a target=\"_blank\" href=https://colab.research.google.com/notebooks/data_table.ipynb>data table notebook</a>'\n",
              "            + ' to learn more about interactive tables.';\n",
              "          element.innerHTML = '';\n",
              "          dataTable['output_type'] = 'display_data';\n",
              "          await google.colab.output.renderOutput(dataTable, element);\n",
              "          const docLink = document.createElement('div');\n",
              "          docLink.innerHTML = docLinkHtml;\n",
              "          element.appendChild(docLink);\n",
              "        }\n",
              "      </script>\n",
              "    </div>\n",
              "  </div>\n",
              "  "
            ],
            "text/plain": [
              "                                                  tweet sentiment\n",
              "0     Thank you :) \"@khuzy_k: @Miss_Sejeng Happy bir...       POS\n",
              "1     #docopenhagen i have a horse in my ass :( http...       NEG\n",
              "2     @ellierowexo in this weather, are you mad? &am...       NEG\n",
              "3     that means i will be on the low limit table fo...       NEG\n",
              "4     @Awaishooo Shahid Afridi tou young hi hai na a...       POS\n",
              "...                                                 ...       ...\n",
              "9995                            i messed up big time :(       NEG\n",
              "9996  Who even started this trend? I wanna know if t...       NEG\n",
              "9997  so i have to survive another week without my p...       NEG\n",
              "9998                             FeyTyaz Follback ya :)       POS\n",
              "9999  @1DMspree @njhla omfg harry pls bae :( don't i...       NEG\n",
              "\n",
              "[10000 rows x 2 columns]"
            ]
          },
          "metadata": {},
          "execution_count": 104
        }
      ]
    },
    {
      "cell_type": "markdown",
      "source": [
        "## **Text Processing**\n",
        "Tweets data contain a lot if irrelevant information like hashtags, stop word, mentions, etc.\n",
        "\n",
        "Data cleaning removes all these information, which are useless for the sentiment classifier."
      ],
      "metadata": {
        "id": "VtJizALs0kP2"
      }
    },
    {
      "cell_type": "code",
      "source": [
        "import re               \n",
        "import string\n",
        "from nltk.corpus import stopwords  \n",
        "from nltk.stem import PorterStemmer           \n",
        "from nltk.tokenize import TweetTokenizer\n",
        "\n",
        "nltk.download(\"stopwords\")\n",
        "\n",
        "def text_process(tweet):\n",
        "\n",
        "  tweet = re.sub(r'^RT[\\s]+', '', tweet) # no retweet texts\n",
        "  tweet = re.sub(r'@[\\w]+', '', tweet) # no mentions\n",
        "  tweet = re.sub(r'https?:\\/\\/.*[\\r\\n]*', '', tweet) # no hyperlinks\n",
        "  tweet = re.sub(r'#', '', tweet) # no hashtags\n",
        " \n",
        "  tokenizer = TweetTokenizer(preserve_case=False, strip_handles=True, reduce_len=True)\n",
        "  tweet_tokens = tokenizer.tokenize(tweet) # split tweet\n",
        "\n",
        "  stopwords_english = stopwords.words('english')\n",
        "  stemmer = PorterStemmer() # no suffixes and prefixes\n",
        "  pron = ['i', 'you','he','she','it','we','they']\n",
        "\n",
        "  tweets_clean = []\n",
        "\n",
        "  for word in tweet_tokens: # no stopwords no punctuation, no pronouns\n",
        "      if (word not in stopwords_english and  word not in string.punctuation):  \n",
        "          word = word.lower()\n",
        "          if word in pron: continue\n",
        "          tweets_clean.append(stemmer.stem(word))\n",
        "\n",
        "  return tweets_clean\n",
        "  \n",
        "print(positive_tweets[1])\n",
        "text_process(positive_tweets[1])"
      ],
      "metadata": {
        "colab": {
          "base_uri": "https://localhost:8080/"
        },
        "id": "z8aSF1fU7DZi",
        "outputId": "ded7f6a3-dd88-4107-8332-27ee04a9b32b"
      },
      "execution_count": 114,
      "outputs": [
        {
          "output_type": "stream",
          "name": "stdout",
          "text": [
            "@Lamb2ja Hey James! How odd :/ Please call our Contact Centre on 02392441234 and we will be able to assist you :) Many thanks!\n"
          ]
        },
        {
          "output_type": "execute_result",
          "data": {
            "text/plain": [
              "['hey',\n",
              " 'jame',\n",
              " 'odd',\n",
              " ':/',\n",
              " 'pleas',\n",
              " 'call',\n",
              " 'contact',\n",
              " 'centr',\n",
              " '02392441234',\n",
              " 'abl',\n",
              " 'assist',\n",
              " ':)',\n",
              " 'mani',\n",
              " 'thank']"
            ]
          },
          "metadata": {},
          "execution_count": 114
        }
      ]
    },
    {
      "cell_type": "markdown",
      "source": [
        "## **Split training and testing**"
      ],
      "metadata": {
        "id": "BP4aWdwU26BQ"
      }
    },
    {
      "cell_type": "code",
      "source": [
        "import numpy as np  \n",
        "\n",
        "# 80% training \n",
        "train_pos = positive_tweets[:4000]\n",
        "train_neg = negative_tweets[:4000]\n",
        "\n",
        "# 20% testing\n",
        "test_pos = positive_tweets[4000:]\n",
        "test_neg = negative_tweets[4000:]\n",
        "\n",
        "train_x = train_pos + train_neg \n",
        "test_x = test_pos + test_neg\n",
        "\n",
        "train_y = np.append(np.ones((len(train_pos), 1)), np.zeros((len(train_neg), 1)), axis=0)\n",
        "test_y = np.append(np.ones((len(test_pos), 1)), np.zeros((len(test_neg), 1)), axis=0)"
      ],
      "metadata": {
        "id": "OwtfdoIA24V_"
      },
      "execution_count": 106,
      "outputs": []
    },
    {
      "cell_type": "markdown",
      "source": [
        "## **Dataset's Words Frequency**\n",
        "Tweets can't be fed into the logistic regression function, because they are strings.\n",
        "\n",
        "So let's create a dictionary, which contain the frequency of words in positive tweets and the frequency of words in negative tweets."
      ],
      "metadata": {
        "id": "ey0DsSTRT_3-"
      }
    },
    {
      "cell_type": "code",
      "source": [
        "freqs = {}\n",
        "words = []\n",
        "for tweet in train_pos:\n",
        "    tweet=text_process(tweet)\n",
        "    for word in tweet:\n",
        "        words.append(word)\n",
        "\n",
        "for word in words: # count how many times \"word\" is used in the positive tweets\n",
        "    if (word,1) not in freqs:\n",
        "        freqs[(word,1)] = 1\n",
        "    else:\n",
        "        freqs[(word,1)] +=1\n",
        "\n",
        "words=[]\n",
        "for tweet in train_neg:\n",
        "    tweet=text_process(tweet)\n",
        "    for word in tweet:\n",
        "        words.append(word)\n",
        "\n",
        "for word in words: # count how many times \"word\" is used in the negative tweets\n",
        "    if (word,0) not in freqs:\n",
        "        freqs[(word,0)] = 1\n",
        "    else:\n",
        "        freqs[(word,0)] +=1"
      ],
      "metadata": {
        "id": "o1fyN27YWmed"
      },
      "execution_count": 107,
      "outputs": []
    },
    {
      "cell_type": "markdown",
      "source": [
        "Each tweet is represented by a vector of frequencies, which can be fed into the logistic regression function."
      ],
      "metadata": {
        "id": "Tagsbi3cJmnP"
      }
    },
    {
      "cell_type": "code",
      "source": [
        "def features_extraction(tweet, freqs):\n",
        "    word_l = text_process(tweet)\n",
        "    x = np.zeros((1, 3))\n",
        "    x[0,0] = 1 \n",
        "    for word in word_l:\n",
        "        try:\n",
        "            x[0,1] += freqs[(word,1)]\n",
        "        except:\n",
        "            x[0,1] += 0\n",
        "        try: \n",
        "            x[0,2] += freqs[(word,0.0)]\n",
        "        except:\n",
        "            x[0,2] += 0\n",
        "    assert(x.shape == (1, 3))\n",
        "    return x\n",
        "    \n",
        "freq_positive_train = []\n",
        "freq_negative_train = []\n",
        "\n",
        "for tweet in train_x:\n",
        "  x = features_extraction(tweet,freqs) \n",
        "  freq_positive_train.append(int(x[0,1])) \n",
        "  freq_negative_train.append(int(x[0,2])) "
      ],
      "metadata": {
        "id": "BW0zDPe2aipb"
      },
      "execution_count": 108,
      "outputs": []
    },
    {
      "cell_type": "code",
      "source": [
        "d = {\"tweet\":train_x,\"sentiment\":[\"POS\"]*4000+[\"NEG\"]*4000,\"freq_positive\":freq_positive_train,\"freq_negative\":freq_negative_train}\n",
        "df = pd.DataFrame(data=d)\n",
        "df"
      ],
      "metadata": {
        "colab": {
          "base_uri": "https://localhost:8080/",
          "height": 423
        },
        "id": "jxi8pzrPDlG6",
        "outputId": "ba2a7f09-0072-4161-d139-77b6bfd3256d"
      },
      "execution_count": 109,
      "outputs": [
        {
          "output_type": "execute_result",
          "data": {
            "text/html": [
              "\n",
              "  <div id=\"df-21d4c796-4ed3-4d15-b55b-145650a6d9ec\">\n",
              "    <div class=\"colab-df-container\">\n",
              "      <div>\n",
              "<style scoped>\n",
              "    .dataframe tbody tr th:only-of-type {\n",
              "        vertical-align: middle;\n",
              "    }\n",
              "\n",
              "    .dataframe tbody tr th {\n",
              "        vertical-align: top;\n",
              "    }\n",
              "\n",
              "    .dataframe thead th {\n",
              "        text-align: right;\n",
              "    }\n",
              "</style>\n",
              "<table border=\"1\" class=\"dataframe\">\n",
              "  <thead>\n",
              "    <tr style=\"text-align: right;\">\n",
              "      <th></th>\n",
              "      <th>tweet</th>\n",
              "      <th>sentiment</th>\n",
              "      <th>freq_positive</th>\n",
              "      <th>freq_negative</th>\n",
              "    </tr>\n",
              "  </thead>\n",
              "  <tbody>\n",
              "    <tr>\n",
              "      <th>0</th>\n",
              "      <td>#FollowFriday @France_Inte @PKuchly57 @Milipol...</td>\n",
              "      <td>POS</td>\n",
              "      <td>3020</td>\n",
              "      <td>61</td>\n",
              "    </tr>\n",
              "    <tr>\n",
              "      <th>1</th>\n",
              "      <td>@Lamb2ja Hey James! How odd :/ Please call our...</td>\n",
              "      <td>POS</td>\n",
              "      <td>3573</td>\n",
              "      <td>444</td>\n",
              "    </tr>\n",
              "    <tr>\n",
              "      <th>2</th>\n",
              "      <td>@DespiteOfficial we had a listen last night :)...</td>\n",
              "      <td>POS</td>\n",
              "      <td>3005</td>\n",
              "      <td>115</td>\n",
              "    </tr>\n",
              "    <tr>\n",
              "      <th>3</th>\n",
              "      <td>@97sides CONGRATS :)</td>\n",
              "      <td>POS</td>\n",
              "      <td>2862</td>\n",
              "      <td>4</td>\n",
              "    </tr>\n",
              "    <tr>\n",
              "      <th>4</th>\n",
              "      <td>yeaaaah yippppy!!!  my accnt verified rqst has...</td>\n",
              "      <td>POS</td>\n",
              "      <td>3119</td>\n",
              "      <td>225</td>\n",
              "    </tr>\n",
              "    <tr>\n",
              "      <th>...</th>\n",
              "      <td>...</td>\n",
              "      <td>...</td>\n",
              "      <td>...</td>\n",
              "      <td>...</td>\n",
              "    </tr>\n",
              "    <tr>\n",
              "      <th>7995</th>\n",
              "      <td>Amelia didnt stalk my twitter :(</td>\n",
              "      <td>NEG</td>\n",
              "      <td>29</td>\n",
              "      <td>3706</td>\n",
              "    </tr>\n",
              "    <tr>\n",
              "      <th>7996</th>\n",
              "      <td>oh, i missed the broadcast. : (</td>\n",
              "      <td>NEG</td>\n",
              "      <td>62</td>\n",
              "      <td>323</td>\n",
              "    </tr>\n",
              "    <tr>\n",
              "      <th>7997</th>\n",
              "      <td>i really can't stream on melon i feel useless :-(</td>\n",
              "      <td>NEG</td>\n",
              "      <td>144</td>\n",
              "      <td>783</td>\n",
              "    </tr>\n",
              "    <tr>\n",
              "      <th>7998</th>\n",
              "      <td>I need to stop looking at old soccer pictures :(</td>\n",
              "      <td>NEG</td>\n",
              "      <td>205</td>\n",
              "      <td>3890</td>\n",
              "    </tr>\n",
              "    <tr>\n",
              "      <th>7999</th>\n",
              "      <td>Got an interview for the job that I want but t...</td>\n",
              "      <td>NEG</td>\n",
              "      <td>189</td>\n",
              "      <td>3974</td>\n",
              "    </tr>\n",
              "  </tbody>\n",
              "</table>\n",
              "<p>8000 rows × 4 columns</p>\n",
              "</div>\n",
              "      <button class=\"colab-df-convert\" onclick=\"convertToInteractive('df-21d4c796-4ed3-4d15-b55b-145650a6d9ec')\"\n",
              "              title=\"Convert this dataframe to an interactive table.\"\n",
              "              style=\"display:none;\">\n",
              "        \n",
              "  <svg xmlns=\"http://www.w3.org/2000/svg\" height=\"24px\"viewBox=\"0 0 24 24\"\n",
              "       width=\"24px\">\n",
              "    <path d=\"M0 0h24v24H0V0z\" fill=\"none\"/>\n",
              "    <path d=\"M18.56 5.44l.94 2.06.94-2.06 2.06-.94-2.06-.94-.94-2.06-.94 2.06-2.06.94zm-11 1L8.5 8.5l.94-2.06 2.06-.94-2.06-.94L8.5 2.5l-.94 2.06-2.06.94zm10 10l.94 2.06.94-2.06 2.06-.94-2.06-.94-.94-2.06-.94 2.06-2.06.94z\"/><path d=\"M17.41 7.96l-1.37-1.37c-.4-.4-.92-.59-1.43-.59-.52 0-1.04.2-1.43.59L10.3 9.45l-7.72 7.72c-.78.78-.78 2.05 0 2.83L4 21.41c.39.39.9.59 1.41.59.51 0 1.02-.2 1.41-.59l7.78-7.78 2.81-2.81c.8-.78.8-2.07 0-2.86zM5.41 20L4 18.59l7.72-7.72 1.47 1.35L5.41 20z\"/>\n",
              "  </svg>\n",
              "      </button>\n",
              "      \n",
              "  <style>\n",
              "    .colab-df-container {\n",
              "      display:flex;\n",
              "      flex-wrap:wrap;\n",
              "      gap: 12px;\n",
              "    }\n",
              "\n",
              "    .colab-df-convert {\n",
              "      background-color: #E8F0FE;\n",
              "      border: none;\n",
              "      border-radius: 50%;\n",
              "      cursor: pointer;\n",
              "      display: none;\n",
              "      fill: #1967D2;\n",
              "      height: 32px;\n",
              "      padding: 0 0 0 0;\n",
              "      width: 32px;\n",
              "    }\n",
              "\n",
              "    .colab-df-convert:hover {\n",
              "      background-color: #E2EBFA;\n",
              "      box-shadow: 0px 1px 2px rgba(60, 64, 67, 0.3), 0px 1px 3px 1px rgba(60, 64, 67, 0.15);\n",
              "      fill: #174EA6;\n",
              "    }\n",
              "\n",
              "    [theme=dark] .colab-df-convert {\n",
              "      background-color: #3B4455;\n",
              "      fill: #D2E3FC;\n",
              "    }\n",
              "\n",
              "    [theme=dark] .colab-df-convert:hover {\n",
              "      background-color: #434B5C;\n",
              "      box-shadow: 0px 1px 3px 1px rgba(0, 0, 0, 0.15);\n",
              "      filter: drop-shadow(0px 1px 2px rgba(0, 0, 0, 0.3));\n",
              "      fill: #FFFFFF;\n",
              "    }\n",
              "  </style>\n",
              "\n",
              "      <script>\n",
              "        const buttonEl =\n",
              "          document.querySelector('#df-21d4c796-4ed3-4d15-b55b-145650a6d9ec button.colab-df-convert');\n",
              "        buttonEl.style.display =\n",
              "          google.colab.kernel.accessAllowed ? 'block' : 'none';\n",
              "\n",
              "        async function convertToInteractive(key) {\n",
              "          const element = document.querySelector('#df-21d4c796-4ed3-4d15-b55b-145650a6d9ec');\n",
              "          const dataTable =\n",
              "            await google.colab.kernel.invokeFunction('convertToInteractive',\n",
              "                                                     [key], {});\n",
              "          if (!dataTable) return;\n",
              "\n",
              "          const docLinkHtml = 'Like what you see? Visit the ' +\n",
              "            '<a target=\"_blank\" href=https://colab.research.google.com/notebooks/data_table.ipynb>data table notebook</a>'\n",
              "            + ' to learn more about interactive tables.';\n",
              "          element.innerHTML = '';\n",
              "          dataTable['output_type'] = 'display_data';\n",
              "          await google.colab.output.renderOutput(dataTable, element);\n",
              "          const docLink = document.createElement('div');\n",
              "          docLink.innerHTML = docLinkHtml;\n",
              "          element.appendChild(docLink);\n",
              "        }\n",
              "      </script>\n",
              "    </div>\n",
              "  </div>\n",
              "  "
            ],
            "text/plain": [
              "                                                  tweet  ... freq_negative\n",
              "0     #FollowFriday @France_Inte @PKuchly57 @Milipol...  ...            61\n",
              "1     @Lamb2ja Hey James! How odd :/ Please call our...  ...           444\n",
              "2     @DespiteOfficial we had a listen last night :)...  ...           115\n",
              "3                                  @97sides CONGRATS :)  ...             4\n",
              "4     yeaaaah yippppy!!!  my accnt verified rqst has...  ...           225\n",
              "...                                                 ...  ...           ...\n",
              "7995                   Amelia didnt stalk my twitter :(  ...          3706\n",
              "7996                    oh, i missed the broadcast. : (  ...           323\n",
              "7997  i really can't stream on melon i feel useless :-(  ...           783\n",
              "7998   I need to stop looking at old soccer pictures :(  ...          3890\n",
              "7999  Got an interview for the job that I want but t...  ...          3974\n",
              "\n",
              "[8000 rows x 4 columns]"
            ]
          },
          "metadata": {},
          "execution_count": 109
        }
      ]
    },
    {
      "cell_type": "markdown",
      "source": [
        "## **Logistic regression classifier**"
      ],
      "metadata": {
        "id": "1YZFSFJhO-6N"
      }
    },
    {
      "cell_type": "code",
      "source": [
        "def sigmoid(x): \n",
        "    h = 1/(1+np.exp(-x))\n",
        "    return h\n",
        "\n",
        "def learn(x, y, alpha, num_iters):\n",
        "    theta = np.zeros((3, 1))\n",
        "    m = x.shape[0]\n",
        "    J = []\n",
        "    for i in range(0, num_iters):\n",
        "        z = np.dot(x,theta)\n",
        "        h = sigmoid(z)\n",
        "        J.append(-1/m*(np.dot(y.T,np.log(h))+np.dot((1-y).T,np.log(1-h))))\n",
        "        theta -= (alpha/m)*np.dot(x.T,h-y)\n",
        "    return J, theta"
      ],
      "metadata": {
        "id": "7i3EbjrcPFFd"
      },
      "execution_count": 116,
      "outputs": []
    },
    {
      "cell_type": "markdown",
      "source": [
        "## **Training**"
      ],
      "metadata": {
        "id": "08ezkgXnQAmx"
      }
    },
    {
      "cell_type": "code",
      "source": [
        "X = np.zeros((len(train_x), 3))\n",
        "for i in range(len(train_x)):\n",
        "    X[i, :]= features_extraction(train_x[i], freqs)\n",
        "\n",
        "J, theta = learn(X, train_y, 1e-9, 1500)"
      ],
      "metadata": {
        "id": "R7Nx_RFaP_yJ"
      },
      "execution_count": 117,
      "outputs": []
    },
    {
      "cell_type": "code",
      "source": [
        "# cross entropy minimized\n",
        "J = np.array(J).reshape(len(J))\n",
        "plt.plot(range(len(J)),J)\n",
        "plt.xlabel(\"epochs\")\n",
        "plt.ylabel(\"loss function\")\n",
        "plt.show()"
      ],
      "metadata": {
        "colab": {
          "base_uri": "https://localhost:8080/",
          "height": 279
        },
        "id": "NIDEZV4YvKV_",
        "outputId": "ab4e4885-d77a-492b-89dd-831a8ef07618"
      },
      "execution_count": 121,
      "outputs": [
        {
          "output_type": "display_data",
          "data": {
            "image/png": "[encoded data removed]",
            "text/plain": [
              "<Figure size 432x288 with 1 Axes>"
            ]
          },
          "metadata": {
            "needs_background": "light"
          }
        }
      ]
    },
    {
      "cell_type": "markdown",
      "source": [
        "## **Testing**"
      ],
      "metadata": {
        "id": "VTx3aEpHctBf"
      }
    },
    {
      "cell_type": "code",
      "source": [
        "def predict(tweet, freqs, theta):\n",
        "    x = features_extraction(tweet,freqs)\n",
        "    y_pred = sigmoid(np.dot(x,theta))\n",
        "    return y_pred\n",
        "\n",
        "def test_accuracy(test_x, test_y, freqs, theta):\n",
        "    y_hat = []\n",
        "    for tweet in test_x:\n",
        "        y_pred = predict(tweet, freqs, theta)\n",
        "        if y_pred > 0.5:\n",
        "            y_hat.append(1)\n",
        "        else:\n",
        "            y_hat.append(0)\n",
        "\n",
        "    m=len(y_hat)\n",
        "    y_hat=np.array(y_hat)\n",
        "    y_hat=y_hat.reshape(m)\n",
        "    test_y=test_y.reshape(m)\n",
        "\n",
        "    c = y_hat == test_y\n",
        "    j = 0\n",
        "    for i in c:\n",
        "        if i==True:\n",
        "            j += 1\n",
        "    accuracy = j/m\n",
        "    return accuracy * 100\n",
        "\n",
        "accuracy = test_accuracy(test_x, test_y, freqs, theta)\n",
        "print(\"Accuracy :: {}%\".format(accuracy))"
      ],
      "metadata": {
        "colab": {
          "base_uri": "https://localhost:8080/"
        },
        "id": "1rASx-EwcwmM",
        "outputId": "e7a19dd3-8467-40d9-de19-920c4009a2f9"
      },
      "execution_count": 112,
      "outputs": [
        {
          "output_type": "stream",
          "name": "stdout",
          "text": [
            "Accuracy :: 99.5%\n"
          ]
        }
      ]
    }
  ]
}